{
 "cells": [
  {
   "cell_type": "code",
   "execution_count": 16,
   "metadata": {},
   "outputs": [
    {
     "name": "stdout",
     "output_type": "stream",
     "text": [
      "number:-34.38298797607422\n",
      "2\n",
      "-34.38298797607422\n"
     ]
    }
   ],
   "source": [
    "import xlrd\n",
    "import pandas as pd\n",
    "\n",
    "book = xlrd.open_workbook(\"/Users/yoshidatakayuki/Data/USC-HAD/Subject1/a2t1.xlsx\")\n",
    "s = book.sheet_by_name('Sheet1')\n",
    "\n",
    "print(s.cell(1, 3))  # 指定した行・列のCellオブジェクトを取得\n",
    "print(s.cell_type(1, 3))  # セルのtypeを取得\n",
    "print(s.cell_value(1, 3))  # セルのvalueを取得"
   ]
  },
  {
   "cell_type": "code",
   "execution_count": null,
   "metadata": {
    "collapsed": true
   },
   "outputs": [],
   "source": []
  }
 ],
 "metadata": {
  "kernelspec": {
   "display_name": "Python 3",
   "language": "python",
   "name": "python3"
  },
  "language_info": {
   "codemirror_mode": {
    "name": "ipython",
    "version": 3
   },
   "file_extension": ".py",
   "mimetype": "text/x-python",
   "name": "python",
   "nbconvert_exporter": "python",
   "pygments_lexer": "ipython3",
   "version": "3.6.2"
  }
 },
 "nbformat": 4,
 "nbformat_minor": 2
}
