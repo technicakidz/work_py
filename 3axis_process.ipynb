{
 "cells": [
  {
   "cell_type": "markdown",
   "metadata": {},
   "source": [
    "## xlrdでエクセルデータ読み込み"
   ]
  },
  {
   "cell_type": "code",
   "execution_count": 2,
   "metadata": {},
   "outputs": [
    {
     "name": "stdout",
     "output_type": "stream",
     "text": [
      "number:-34.38298797607422\n",
      "2\n",
      "-34.38298797607422\n",
      "2700\n",
      "6\n"
     ]
    }
   ],
   "source": [
    "import xlrd\n",
    "import pandas as pd\n",
    "\n",
    "book = xlrd.open_workbook(\"/Users/yoshidatakayuki/Data/USC-HAD/Subject1/a2t1.xlsx\")\n",
    "s = book.sheet_by_name('Sheet1')\n",
    "\n",
    "print(s.cell(1, 3))  # 指定した行・列のCellオブジェクトを取得\n",
    "print(s.cell_type(1, 3))  # セルのtypeを取得\n",
    "print(s.cell_value(1, 3))  # セルのvalueを取得\n",
    "print(s.nrows) # 行\n",
    "print(s.ncols) # 列"
   ]
  },
  {
   "cell_type": "code",
   "execution_count": 4,
   "metadata": {},
   "outputs": [
    {
     "name": "stdout",
     "output_type": "stream",
     "text": [
      "sheets:\n",
      "Sheet1 2700x6\n"
     ]
    }
   ],
   "source": [
    "print('sheets:')\n",
    "for s in book.sheets():\n",
    "    print('%s %sx%s' % (s.name, s.nrows, s.ncols))"
   ]
  },
  {
   "cell_type": "code",
   "execution_count": 1,
   "metadata": {},
   "outputs": [],
   "source": [
    "#exstract data\n",
    "# for row in range(s.nrows):\n",
    "#     print(\"----------------------\")\n",
    "#     for col in range(s.ncols):\n",
    "#             print(s.cell_value(row,col))"
   ]
  },
  {
   "cell_type": "markdown",
   "metadata": {
    "collapsed": true
   },
   "source": [
    "## pandasでエクセルデータ読み込み"
   ]
  },
  {
   "cell_type": "code",
   "execution_count": 21,
   "metadata": {
    "collapsed": true
   },
   "outputs": [],
   "source": [
    "#read each of data in activity2-time1\n",
    "import pandas as pd\n",
    "import numpy as np\n",
    "\n",
    "s1 = pd.read_excel('/Users/yoshidatakayuki/Data/USC-HAD/Subject1/a1t1.xlsx')\n",
    "s2 = pd.read_excel('/Users/yoshidatakayuki/Data/USC-HAD/Subject2/a1t1 (1).xlsx')\n",
    "s3 = pd.read_excel('/Users/yoshidatakayuki/Data/USC-HAD/Subject3/a1t1 (2).xlsx')\n",
    "s4 = pd.read_excel('/Users/yoshidatakayuki/Data/USC-HAD/Subject4/a1t1 (3).xlsx')\n",
    "s5 = pd.read_excel('/Users/yoshidatakayuki/Data/USC-HAD/Subject5/a1t1 (4).xlsx')\n",
    "s6 = pd.read_excel('/Users/yoshidatakayuki/Data/USC-HAD/Subject6/a1t1 (5).xlsx')\n",
    "s7 = pd.read_excel('/Users/yoshidatakayuki/Data/USC-HAD/Subject7/a1t1 (6).xlsx')\n",
    "s8 = pd.read_excel('/Users/yoshidatakayuki/Data/USC-HAD/Subject8/a1t1 (7).xlsx')\n",
    "s9 = pd.read_excel('/Users/yoshidatakayuki/Data/USC-HAD/Subject9/a1t1 (8).xlsx')\n",
    "s10 = pd.read_excel('/Users/yoshidatakayuki/Data/USC-HAD/Subject10/a1t1 (9).xlsx')\n",
    "s11 = pd.read_excel('/Users/yoshidatakayuki/Data/USC-HAD/Subject11/a1t1 (10).xlsx')\n",
    "s12 = pd.read_excel('/Users/yoshidatakayuki/Data/USC-HAD/Subject12/a1t1 (11).xlsx')\n",
    "s13 = pd.read_excel('/Users/yoshidatakayuki/Data/USC-HAD/Subject13/a1t1 (12).xlsx')\n",
    "s14 = pd.read_excel('/Users/yoshidatakayuki/Data/USC-HAD/Subject14/a1t1 (13).xlsx')"
   ]
  },
  {
   "cell_type": "code",
   "execution_count": 22,
   "metadata": {
    "collapsed": true
   },
   "outputs": [],
   "source": [
    "ss1 = s1.as_matrix() #numpy\n",
    "ss2 = s2.as_matrix()\n",
    "ss3 = s3.as_matrix()\n",
    "ss4 = s4.as_matrix()\n",
    "ss5 = s5.as_matrix()\n",
    "ss6 = s6.as_matrix()\n",
    "ss7 = s7.as_matrix()\n",
    "ss8 = s8.as_matrix()\n",
    "ss9 = s9.as_matrix()\n",
    "ss10 = s10.as_matrix()\n",
    "ss11 = s11.as_matrix()\n",
    "ss12 = s12.as_matrix()\n",
    "ss13 = s13.as_matrix()\n",
    "ss14 = s14.as_matrix()"
   ]
  },
  {
   "cell_type": "code",
   "execution_count": 30,
   "metadata": {
    "collapsed": true
   },
   "outputs": [],
   "source": [
    "#ラベルファイル作成\n",
    "f = open('subject_a1t1.txt', 'w')\n",
    "\n",
    "num = \"1\"\n",
    "lines = ss1.shape[0]\n",
    "for i in range(lines):\n",
    "    f.writelines(num)\n",
    "    f.writelines(\"\\n\")\n",
    "\n",
    "num = \"2\"\n",
    "lines = ss2.shape[0]\n",
    "for i in range(lines):\n",
    "    f.writelines(num)\n",
    "    f.writelines(\"\\n\")\n",
    "\n",
    "num = \"3\"\n",
    "lines = ss3.shape[0]\n",
    "for i in range(lines):\n",
    "    f.writelines(num)\n",
    "    f.writelines(\"\\n\")\n",
    "\n",
    "num = \"4\"\n",
    "lines = ss4.shape[0]\n",
    "for i in range(lines):\n",
    "    f.writelines(num)\n",
    "    f.writelines(\"\\n\")\n",
    "\n",
    "num = \"5\"\n",
    "lines = ss5.shape[0]\n",
    "for i in range(lines):\n",
    "    f.writelines(num)\n",
    "    f.writelines(\"\\n\")\n",
    "\n",
    "num = \"6\"\n",
    "lines = ss6.shape[0]\n",
    "for i in range(lines):\n",
    "    f.writelines(num)\n",
    "    f.writelines(\"\\n\")\n",
    "\n",
    "num = \"7\"\n",
    "lines = ss7.shape[0]\n",
    "for i in range(lines):\n",
    "    f.writelines(num)\n",
    "    f.writelines(\"\\n\")\n",
    "\n",
    "num = \"8\"\n",
    "lines = ss8.shape[0]\n",
    "for i in range(lines):\n",
    "    f.writelines(num)\n",
    "    f.writelines(\"\\n\")\n",
    "    \n",
    "num= \"9\"\n",
    "lines = ss9.shape[0]\n",
    "for i in range(lines):\n",
    "    f.writelines(num)\n",
    "    f.writelines(\"\\n\")\n",
    "\n",
    "num = \"10\"\n",
    "lines = ss10.shape[0]\n",
    "for i in range(lines):\n",
    "    f.writelines(num)\n",
    "    f.writelines(\"\\n\")\n",
    "\n",
    "num = \"11\"\n",
    "lines = ss11.shape[0]\n",
    "for i in range(lines):\n",
    "    f.writelines(num)\n",
    "    f.writelines(\"\\n\")\n",
    "\n",
    "num = \"12\"\n",
    "lines = ss12.shape[0]\n",
    "for i in range(lines):\n",
    "    f.writelines(num)\n",
    "    f.writelines(\"\\n\")\n",
    "\n",
    "num = \"13\"\n",
    "lines = ss13.shape[0]\n",
    "for i in range(lines):\n",
    "    f.writelines(num)\n",
    "    f.writelines(\"\\n\")\n",
    "\n",
    "num = \"14\"\n",
    "lines = ss14.shape[0]\n",
    "for i in range(lines):\n",
    "    f.writelines(num)\n",
    "    f.writelines(\"\\n\")\n",
    "    \n",
    "f.close()"
   ]
  },
  {
   "cell_type": "code",
   "execution_count": 31,
   "metadata": {
    "collapsed": true
   },
   "outputs": [],
   "source": [
    "#dataの連結\n",
    "data = np.r_[ss1,ss2,ss3,ss4,ss5,ss6,ss7,ss8,ss9,ss10,ss11,ss12,ss13,ss14]"
   ]
  },
  {
   "cell_type": "code",
   "execution_count": 32,
   "metadata": {
    "collapsed": true
   },
   "outputs": [],
   "source": [
    "#label = pd.read_csv('/Users/yoshidatakayuki/github.com/work_py/subject10.txt')"
   ]
  },
  {
   "cell_type": "code",
   "execution_count": 33,
   "metadata": {
    "collapsed": true
   },
   "outputs": [],
   "source": [
    "#data.shape,label.shape"
   ]
  },
  {
   "cell_type": "code",
   "execution_count": 34,
   "metadata": {
    "collapsed": true
   },
   "outputs": [],
   "source": [
    "data2 = data[:,[0,1,2]] #抽出箇所指定"
   ]
  },
  {
   "cell_type": "code",
   "execution_count": 35,
   "metadata": {},
   "outputs": [
    {
     "data": {
      "text/plain": [
       "(74686, 3)"
      ]
     },
     "execution_count": 35,
     "metadata": {},
     "output_type": "execute_result"
    }
   ],
   "source": [
    "data2.shape"
   ]
  },
  {
   "cell_type": "code",
   "execution_count": 29,
   "metadata": {
    "collapsed": true
   },
   "outputs": [],
   "source": [
    "for i in data2.tolist():\n",
    "     \"/t\".join(map(str,i))+\"/n\""
   ]
  },
  {
   "cell_type": "markdown",
   "metadata": {},
   "source": [
    "### txtファイルに書き込み"
   ]
  },
  {
   "cell_type": "code",
   "execution_count": 36,
   "metadata": {
    "collapsed": true
   },
   "outputs": [],
   "source": [
    "f = open('data_a1t1.txt', 'w') # 書き込みモードで開く\n",
    "for i in data2.tolist():\n",
    "    f.write(\"\\t\".join(map(str,i))+\"\\n\") # 引数の文字列をファイルに書き込む\n",
    "f.close() # ファイルを閉じる"
   ]
  },
  {
   "cell_type": "code",
   "execution_count": null,
   "metadata": {
    "collapsed": true
   },
   "outputs": [],
   "source": []
  },
  {
   "cell_type": "code",
   "execution_count": null,
   "metadata": {
    "collapsed": true
   },
   "outputs": [],
   "source": []
  }
 ],
 "metadata": {
  "kernelspec": {
   "display_name": "Python 3",
   "language": "python",
   "name": "python3"
  },
  "language_info": {
   "codemirror_mode": {
    "name": "ipython",
    "version": 3
   },
   "file_extension": ".py",
   "mimetype": "text/x-python",
   "name": "python",
   "nbconvert_exporter": "python",
   "pygments_lexer": "ipython3",
   "version": "3.6.3"
  }
 },
 "nbformat": 4,
 "nbformat_minor": 2
}
