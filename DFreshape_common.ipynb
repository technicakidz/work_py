{
 "cells": [
  {
   "cell_type": "code",
   "execution_count": 19,
   "metadata": {
    "collapsed": true
   },
   "outputs": [],
   "source": [
    "import pandas as pd\n",
    "import numpy as np\n",
    "import re\n",
    "import csv "
   ]
  },
  {
   "cell_type": "code",
   "execution_count": 35,
   "metadata": {},
   "outputs": [],
   "source": [
    "f = open(\"/Users/yoshidatakayuki/Data/WISDM/actitracker_raw.txt\",\"r\")#元ファイル\n",
    "out_f = open(\"/Users/yoshidatakayuki/Data/WISDM/actitracker_stand.csv\",\"w\")#書き出しファイル"
   ]
  },
  {
   "cell_type": "code",
   "execution_count": 37,
   "metadata": {},
   "outputs": [],
   "source": [
    "# -*- coding:utf-8 -*-\n",
    "# 書き出し用ファイルのヘッダーを記述\n",
    "out_f.write(\"subject,activity,timestamp,x,y,z\\n\")\n",
    "\n",
    "# 元ファイルのレコード部分をreadlinesメソッドで全行を読み取る\n",
    "lines = f.readlines()\n",
    "\n",
    "# for文で1行ずつ取得\n",
    "for line in lines:\n",
    "    # 改行コードをブランクに置換\n",
    "    line = line.replace(\"\\n\",\"\")\n",
    "    # カンマ区切りでリストに変換する\n",
    "    line = line.split(\",\")\n",
    "    # 変換後のカンマ区切りの雛形を作り、変換処理した値を入れ込む\n",
    "    row = \"{},{},{},{},{},{}\\n\".format(\n",
    "        line[0],\n",
    "        line[1],\n",
    "        line[2],\n",
    "        line[3],\n",
    "        line[4],\n",
    "        line[5].replace(\";\",\"\")\n",
    "        )\n",
    "    # 書き出し用のファイルに出力\n",
    "    out_f.write(row)\n",
    "\n",
    "# ２つのファイルを閉じる\n",
    "f.close()\n",
    "out_f.close()"
   ]
  },
  {
   "cell_type": "code",
   "execution_count": 38,
   "metadata": {},
   "outputs": [
    {
     "name": "stderr",
     "output_type": "stream",
     "text": [
      "/Users/yoshidatakayuki/.pyenv/versions/anaconda3-5.0.0/lib/python3.6/site-packages/IPython/core/interactiveshell.py:2698: DtypeWarning: Columns (0,2,3,4,5) have mixed types. Specify dtype option on import or set low_memory=False.\n",
      "  interactivity=interactivity, compiler=compiler, result=result)\n"
     ]
    }
   ],
   "source": [
    "f2 = pd.read_csv(\"/Users/yoshidatakayuki/Data/WISDM/actitracker_stand.csv\")\n",
    "f_stand = f2[f2['activity'] == \"Standing\"]"
   ]
  },
  {
   "cell_type": "code",
   "execution_count": 39,
   "metadata": {},
   "outputs": [
    {
     "data": {
      "text/html": [
       "<div>\n",
       "<style>\n",
       "    .dataframe thead tr:only-child th {\n",
       "        text-align: right;\n",
       "    }\n",
       "\n",
       "    .dataframe thead th {\n",
       "        text-align: left;\n",
       "    }\n",
       "\n",
       "    .dataframe tbody tr th {\n",
       "        vertical-align: top;\n",
       "    }\n",
       "</style>\n",
       "<table border=\"1\" class=\"dataframe\">\n",
       "  <thead>\n",
       "    <tr style=\"text-align: right;\">\n",
       "      <th></th>\n",
       "      <th>subject</th>\n",
       "      <th>activity</th>\n",
       "      <th>timestamp</th>\n",
       "      <th>x</th>\n",
       "      <th>y</th>\n",
       "      <th>z</th>\n",
       "    </tr>\n",
       "  </thead>\n",
       "  <tbody>\n",
       "    <tr>\n",
       "      <th>223432</th>\n",
       "      <td>27</td>\n",
       "      <td>Standing</td>\n",
       "      <td>12535892255000</td>\n",
       "      <td>-1.88</td>\n",
       "      <td>9.85</td>\n",
       "      <td>-0.231546</td>\n",
       "    </tr>\n",
       "    <tr>\n",
       "      <th>223433</th>\n",
       "      <td>27</td>\n",
       "      <td>Standing</td>\n",
       "      <td>12535942273000</td>\n",
       "      <td>-0.19</td>\n",
       "      <td>9.92</td>\n",
       "      <td>-0.572055</td>\n",
       "    </tr>\n",
       "    <tr>\n",
       "      <th>223434</th>\n",
       "      <td>27</td>\n",
       "      <td>Standing</td>\n",
       "      <td>12535992231000</td>\n",
       "      <td>-0.61</td>\n",
       "      <td>10.27</td>\n",
       "      <td>-0.885323</td>\n",
       "    </tr>\n",
       "  </tbody>\n",
       "</table>\n",
       "</div>"
      ],
      "text/plain": [
       "       subject  activity       timestamp     x      y         z\n",
       "223432      27  Standing  12535892255000 -1.88   9.85 -0.231546\n",
       "223433      27  Standing  12535942273000 -0.19   9.92 -0.572055\n",
       "223434      27  Standing  12535992231000 -0.61  10.27 -0.885323"
      ]
     },
     "execution_count": 39,
     "metadata": {},
     "output_type": "execute_result"
    }
   ],
   "source": [
    "f_stand[:3] #raw data status"
   ]
  },
  {
   "cell_type": "code",
   "execution_count": 41,
   "metadata": {},
   "outputs": [
    {
     "name": "stdout",
     "output_type": "stream",
     "text": [
      "2 subjects\n"
     ]
    }
   ],
   "source": [
    "print(len(set(f_stand.subject)),'subjects') #num labels"
   ]
  },
  {
   "cell_type": "code",
   "execution_count": 13,
   "metadata": {},
   "outputs": [],
   "source": []
  },
  {
   "cell_type": "code",
   "execution_count": null,
   "metadata": {
    "collapsed": true
   },
   "outputs": [],
   "source": []
  },
  {
   "cell_type": "code",
   "execution_count": null,
   "metadata": {
    "collapsed": true
   },
   "outputs": [],
   "source": []
  },
  {
   "cell_type": "code",
   "execution_count": null,
   "metadata": {
    "collapsed": true
   },
   "outputs": [],
   "source": []
  }
 ],
 "metadata": {
  "kernelspec": {
   "display_name": "Python 3",
   "language": "python",
   "name": "python3"
  },
  "language_info": {
   "codemirror_mode": {
    "name": "ipython",
    "version": 3
   },
   "file_extension": ".py",
   "mimetype": "text/x-python",
   "name": "python",
   "nbconvert_exporter": "python",
   "pygments_lexer": "ipython3",
   "version": "3.6.3"
  }
 },
 "nbformat": 4,
 "nbformat_minor": 2
}
