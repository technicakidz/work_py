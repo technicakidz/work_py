{
 "cells": [
  {
   "cell_type": "code",
   "execution_count": 28,
   "metadata": {
    "collapsed": true
   },
   "outputs": [],
   "source": [
    "import pandas as pd\n",
    "import numpy as np\n",
    "import re\n",
    "import csv "
   ]
  },
  {
   "cell_type": "code",
   "execution_count": 47,
   "metadata": {
    "collapsed": true
   },
   "outputs": [],
   "source": [
    "f = open(\"/home/deepstation/PRMLlab/technicakidz/Data/actitracker_raw.txt\",\"r\")#元ファイル\n",
    "out_f = open(\"/home/deepstation/PRMLlab/technicakidz/Data/actitracker_sit.txt\",\"w\")#書き出しファイル"
   ]
  },
  {
   "cell_type": "code",
   "execution_count": 49,
   "metadata": {},
   "outputs": [],
   "source": [
    "# 書き出し用ファイルのヘッダーを記述\n",
    "out_f.write(\"subject,activity,timestamp,x,y,z\\n\")\n",
    "\n",
    "# 元ファイルのレコード部分をreadlinesメソッドで全行を読み取る\n",
    "lines = f.readlines()\n",
    "\n",
    "# for文で1行ずつ取得\n",
    "for line in lines:\n",
    "    # 改行コードをブランクに置換\n",
    "    line = line.replace(\"\\n\",\"\")\n",
    "    # カンマ区切りでリストに変換する\n",
    "    line = line.split(\",\")\n",
    "    # 変換後のカンマ区切りの雛形を作り、変換処理した値を入れ込む\n",
    "    row = \"{},{},{},{},{},{}\\n\".format(\n",
    "        line[0],\n",
    "        line[1],\n",
    "        line[2],\n",
    "        line[3],\n",
    "        line[4],\n",
    "        line[5].replace(\";\",\"\")\n",
    "        )\n",
    "    # 書き出し用のファイルに出力\n",
    "    out_f.write(row)\n",
    "\n",
    "# ２つのファイルを閉じる\n",
    "f.close()\n",
    "out_f.close()"
   ]
  },
  {
   "cell_type": "code",
   "execution_count": 50,
   "metadata": {},
   "outputs": [
    {
     "name": "stderr",
     "output_type": "stream",
     "text": [
      "/home/deepstation/anaconda3/envs/tensorflow-gpu/lib/python3.6/site-packages/IPython/core/interactiveshell.py:2698: DtypeWarning: Columns (0,2,3,4,5) have mixed types. Specify dtype option on import or set low_memory=False.\n",
      "  interactivity=interactivity, compiler=compiler, result=result)\n"
     ]
    },
    {
     "data": {
      "text/html": [
       "<div>\n",
       "<style>\n",
       "    .dataframe thead tr:only-child th {\n",
       "        text-align: right;\n",
       "    }\n",
       "\n",
       "    .dataframe thead th {\n",
       "        text-align: left;\n",
       "    }\n",
       "\n",
       "    .dataframe tbody tr th {\n",
       "        vertical-align: top;\n",
       "    }\n",
       "</style>\n",
       "<table border=\"1\" class=\"dataframe\">\n",
       "  <thead>\n",
       "    <tr style=\"text-align: right;\">\n",
       "      <th></th>\n",
       "      <th>subject</th>\n",
       "      <th>activity</th>\n",
       "      <th>timestamp</th>\n",
       "      <th>x</th>\n",
       "      <th>y</th>\n",
       "      <th>z</th>\n",
       "    </tr>\n",
       "  </thead>\n",
       "  <tbody>\n",
       "    <tr>\n",
       "      <th>221333</th>\n",
       "      <td>27</td>\n",
       "      <td>Sitting</td>\n",
       "      <td>12363992261000</td>\n",
       "      <td>2.6</td>\n",
       "      <td>9.66</td>\n",
       "      <td>1.03515</td>\n",
       "    </tr>\n",
       "    <tr>\n",
       "      <th>221334</th>\n",
       "      <td>27</td>\n",
       "      <td>Sitting</td>\n",
       "      <td>12364042279000</td>\n",
       "      <td>2.68</td>\n",
       "      <td>9.53</td>\n",
       "      <td>0.503953</td>\n",
       "    </tr>\n",
       "    <tr>\n",
       "      <th>221335</th>\n",
       "      <td>27</td>\n",
       "      <td>Sitting</td>\n",
       "      <td>12364092267000</td>\n",
       "      <td>3.49</td>\n",
       "      <td>8.89</td>\n",
       "      <td>0.76274</td>\n",
       "    </tr>\n",
       "  </tbody>\n",
       "</table>\n",
       "</div>"
      ],
      "text/plain": [
       "       subject activity       timestamp     x     y         z\n",
       "221333      27  Sitting  12363992261000   2.6  9.66   1.03515\n",
       "221334      27  Sitting  12364042279000  2.68  9.53  0.503953\n",
       "221335      27  Sitting  12364092267000  3.49  8.89   0.76274"
      ]
     },
     "execution_count": 50,
     "metadata": {},
     "output_type": "execute_result"
    }
   ],
   "source": [
    "f2 = pd.read_csv(\"/home/deepstation/PRMLlab/technicakidz/Data/actitracker_sit.txt\")\n",
    "f_act = f2[f2['activity'] == \"Sitting\"]\n",
    "f_act[:3] #raw data status"
   ]
  },
  {
   "cell_type": "code",
   "execution_count": 51,
   "metadata": {},
   "outputs": [
    {
     "data": {
      "text/plain": [
       "(4599, 6)"
      ]
     },
     "execution_count": 51,
     "metadata": {},
     "output_type": "execute_result"
    }
   ],
   "source": [
    "f_act.shape"
   ]
  },
  {
   "cell_type": "code",
   "execution_count": 52,
   "metadata": {},
   "outputs": [
    {
     "name": "stdout",
     "output_type": "stream",
     "text": [
      "2 subjects\n"
     ]
    }
   ],
   "source": [
    "print(len(set(f_act.subject)),'subjects') #num labels"
   ]
  },
  {
   "cell_type": "code",
   "execution_count": 53,
   "metadata": {
    "collapsed": true
   },
   "outputs": [],
   "source": [
    "f_act.to_csv(\"/home/deepstation/PRMLlab/technicakidz/Data/actitracker_sit.txt\")"
   ]
  },
  {
   "cell_type": "code",
   "execution_count": 22,
   "metadata": {},
   "outputs": [
    {
     "data": {
      "text/plain": [
       "(1098203, 1)"
      ]
     },
     "execution_count": 22,
     "metadata": {},
     "output_type": "execute_result"
    }
   ],
   "source": [
    "f = pd.read_table('/home/deepstation/PRMLlab/technicakidz/Data/actitracker_raw.txt')\n",
    "f.shape"
   ]
  },
  {
   "cell_type": "code",
   "execution_count": 78,
   "metadata": {},
   "outputs": [
    {
     "data": {
      "text/plain": [
       "(111638, 1)"
      ]
     },
     "execution_count": 78,
     "metadata": {},
     "output_type": "execute_result"
    }
   ],
   "source": [
    "f_w = pd.read_table('/home/deepstation/PRMLlab/technicakidz/Data/actitracker_walk.txt')\n",
    "f_w.shape"
   ]
  },
  {
   "cell_type": "code",
   "execution_count": 42,
   "metadata": {},
   "outputs": [
    {
     "data": {
      "text/plain": [
       "(104583, 7)"
      ]
     },
     "execution_count": 42,
     "metadata": {},
     "output_type": "execute_result"
    }
   ],
   "source": [
    "f_jog = pd.read_csv(\"/home/deepstation/PRMLlab/technicakidz/Data/actitracker_jog.txt\")\n",
    "f_jog.shape"
   ]
  },
  {
   "cell_type": "code",
   "execution_count": 27,
   "metadata": {},
   "outputs": [
    {
     "data": {
      "text/plain": [
       "(28898, 7)"
      ]
     },
     "execution_count": 27,
     "metadata": {},
     "output_type": "execute_result"
    }
   ],
   "source": [
    "f_up = pd.read_csv(\"/home/deepstation/PRMLlab/technicakidz/Data/actitracker_up.txt\")\n",
    "f_up.shape"
   ]
  },
  {
   "cell_type": "code",
   "execution_count": 37,
   "metadata": {},
   "outputs": [
    {
     "data": {
      "text/plain": [
       "(28600, 7)"
      ]
     },
     "execution_count": 37,
     "metadata": {},
     "output_type": "execute_result"
    }
   ],
   "source": [
    "f_down = pd.read_csv(\"/home/deepstation/PRMLlab/technicakidz/Data/actitracker_down.txt\")\n",
    "f_down.shape"
   ]
  },
  {
   "cell_type": "code",
   "execution_count": 46,
   "metadata": {},
   "outputs": [
    {
     "data": {
      "text/plain": [
       "(3555, 1)"
      ]
     },
     "execution_count": 46,
     "metadata": {},
     "output_type": "execute_result"
    }
   ],
   "source": [
    "f_stand = pd.read_table('/home/deepstation/PRMLlab/technicakidz/Data/actitracker_stand.txt')\n",
    "f_stand.shape"
   ]
  },
  {
   "cell_type": "code",
   "execution_count": 54,
   "metadata": {},
   "outputs": [
    {
     "data": {
      "text/plain": [
       "(4599, 1)"
      ]
     },
     "execution_count": 54,
     "metadata": {},
     "output_type": "execute_result"
    }
   ],
   "source": [
    "f_sit = pd.read_table('/home/deepstation/PRMLlab/technicakidz/Data/actitracker_sit.txt')\n",
    "f_sit.shape"
   ]
  },
  {
   "cell_type": "code",
   "execution_count": null,
   "metadata": {
    "collapsed": true
   },
   "outputs": [],
   "source": []
  }
 ],
 "metadata": {
  "kernelspec": {
   "display_name": "Python 3",
   "language": "python",
   "name": "python3"
  },
  "language_info": {
   "codemirror_mode": {
    "name": "ipython",
    "version": 3
   },
   "file_extension": ".py",
   "mimetype": "text/x-python",
   "name": "python",
   "nbconvert_exporter": "python",
   "pygments_lexer": "ipython3",
   "version": "3.6.3"
  }
 },
 "nbformat": 4,
 "nbformat_minor": 2
}
