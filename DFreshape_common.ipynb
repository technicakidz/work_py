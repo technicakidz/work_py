{
 "cells": [
  {
   "cell_type": "code",
   "execution_count": 1,
   "metadata": {
    "collapsed": true
   },
   "outputs": [],
   "source": [
    "import pandas as pd\n",
    "import numpy as np\n",
    "import re\n",
    "import csv "
   ]
  },
  {
   "cell_type": "code",
   "execution_count": 13,
   "metadata": {},
   "outputs": [],
   "source": [
    "f = open(\"/Users/yoshidatakayuki/Data/actitracker_raw.txt\",\"r\")#元ファイル\n",
    "out_f = open(\"/Users/yoshidatakayuki/Data/actitracker_raw2.csv\",\"w\")#書き出しファイル"
   ]
  },
  {
   "cell_type": "code",
   "execution_count": 15,
   "metadata": {},
   "outputs": [],
   "source": [
    "# -*- coding:utf-8 -*-\n",
    "# 書き出し用ファイルのヘッダーを記述\n",
    "out_f.write(\"subject,activity,timestamp,x,y,z\\n\")\n",
    "\n",
    "# 元ファイルのレコード部分をreadlinesメソッドで全行を読み取る\n",
    "lines = f.readlines()\n",
    "\n",
    "# for文で1行ずつ取得\n",
    "for line in lines:\n",
    "    # 改行コードをブランクに置換\n",
    "    line = line.replace(\"\\n\",\"\")\n",
    "    # カンマ区切りでリストに変換する\n",
    "    line = line.split(\",\")\n",
    "    # 変換後のカンマ区切りの雛形を作り、変換処理した値を入れ込む\n",
    "    row = \"{},{},{},{},{},{}\\n\".format(\n",
    "        line[0],\n",
    "        line[1],\n",
    "        line[2],\n",
    "        line[3],\n",
    "        line[4],\n",
    "        line[5].replace(\";\",\"\")\n",
    "        )\n",
    "    # 書き出し用のファイルに出力\n",
    "    out_f.write(row)\n",
    "\n",
    "# ２つのファイルを閉じる\n",
    "f.close()\n",
    "out_f.close()"
   ]
  },
  {
   "cell_type": "code",
   "execution_count": 17,
   "metadata": {},
   "outputs": [
    {
     "name": "stderr",
     "output_type": "stream",
     "text": [
      "/Users/yoshidatakayuki/.pyenv/versions/anaconda3-5.0.0/lib/python3.6/site-packages/IPython/core/interactiveshell.py:2698: DtypeWarning: Columns (0,2,3,4,5) have mixed types. Specify dtype option on import or set low_memory=False.\n",
      "  interactivity=interactivity, compiler=compiler, result=result)\n"
     ]
    }
   ],
   "source": [
    "f2 = pd.read_csv(\"/Users/yoshidatakayuki/Data/actitracker_raw2.csv\")"
   ]
  },
  {
   "cell_type": "code",
   "execution_count": 18,
   "metadata": {},
   "outputs": [
    {
     "data": {
      "text/plain": [
       "(281874, 6)"
      ]
     },
     "execution_count": 18,
     "metadata": {},
     "output_type": "execute_result"
    }
   ],
   "source": [
    "f2.shape #raw data status"
   ]
  },
  {
   "cell_type": "code",
   "execution_count": 21,
   "metadata": {},
   "outputs": [
    {
     "data": {
      "text/html": [
       "<div>\n",
       "<style>\n",
       "    .dataframe thead tr:only-child th {\n",
       "        text-align: right;\n",
       "    }\n",
       "\n",
       "    .dataframe thead th {\n",
       "        text-align: left;\n",
       "    }\n",
       "\n",
       "    .dataframe tbody tr th {\n",
       "        vertical-align: top;\n",
       "    }\n",
       "</style>\n",
       "<table border=\"1\" class=\"dataframe\">\n",
       "  <thead>\n",
       "    <tr style=\"text-align: right;\">\n",
       "      <th></th>\n",
       "      <th>subject</th>\n",
       "      <th>activity</th>\n",
       "      <th>timestamp</th>\n",
       "      <th>x</th>\n",
       "      <th>y</th>\n",
       "      <th>z</th>\n",
       "    </tr>\n",
       "  </thead>\n",
       "  <tbody>\n",
       "    <tr>\n",
       "      <th>597</th>\n",
       "      <td>33</td>\n",
       "      <td>Walking</td>\n",
       "      <td>49394992294000</td>\n",
       "      <td>0.844462</td>\n",
       "      <td>8.00876</td>\n",
       "      <td>2.79217</td>\n",
       "    </tr>\n",
       "    <tr>\n",
       "      <th>598</th>\n",
       "      <td>33</td>\n",
       "      <td>Walking</td>\n",
       "      <td>49395102310000</td>\n",
       "      <td>1.11687</td>\n",
       "      <td>8.62168</td>\n",
       "      <td>3.78646</td>\n",
       "    </tr>\n",
       "    <tr>\n",
       "      <th>599</th>\n",
       "      <td>33</td>\n",
       "      <td>Walking</td>\n",
       "      <td>49395202316000</td>\n",
       "      <td>-0.503953</td>\n",
       "      <td>16.6577</td>\n",
       "      <td>1.30755</td>\n",
       "    </tr>\n",
       "    <tr>\n",
       "      <th>600</th>\n",
       "      <td>33</td>\n",
       "      <td>Walking</td>\n",
       "      <td>49395302292000</td>\n",
       "      <td>4.79436</td>\n",
       "      <td>10.7601</td>\n",
       "      <td>-1.18497</td>\n",
       "    </tr>\n",
       "    <tr>\n",
       "      <th>601</th>\n",
       "      <td>33</td>\n",
       "      <td>Walking</td>\n",
       "      <td>49395412338000</td>\n",
       "      <td>-0.040861</td>\n",
       "      <td>9.2346</td>\n",
       "      <td>-0.694638</td>\n",
       "    </tr>\n",
       "  </tbody>\n",
       "</table>\n",
       "</div>"
      ],
      "text/plain": [
       "    subject activity       timestamp         x        y         z\n",
       "597      33  Walking  49394992294000  0.844462  8.00876   2.79217\n",
       "598      33  Walking  49395102310000   1.11687  8.62168   3.78646\n",
       "599      33  Walking  49395202316000 -0.503953  16.6577   1.30755\n",
       "600      33  Walking  49395302292000   4.79436  10.7601  -1.18497\n",
       "601      33  Walking  49395412338000 -0.040861   9.2346 -0.694638"
      ]
     },
     "execution_count": 21,
     "metadata": {},
     "output_type": "execute_result"
    }
   ],
   "source": [
    "f_w = f2[f2['activity'] == \"Walking\"]\n",
    "f_w.head()"
   ]
  },
  {
   "cell_type": "code",
   "execution_count": 23,
   "metadata": {
    "collapsed": true
   },
   "outputs": [],
   "source": [
    "f_w.to_csv(\"/Users/yoshidatakayuki/Data/actitracker_walk.csv\")"
   ]
  },
  {
   "cell_type": "code",
   "execution_count": null,
   "metadata": {},
   "outputs": [],
   "source": []
  },
  {
   "cell_type": "code",
   "execution_count": null,
   "metadata": {
    "collapsed": true
   },
   "outputs": [],
   "source": []
  }
 ],
 "metadata": {
  "kernelspec": {
   "display_name": "Python 3",
   "language": "python",
   "name": "python3"
  }
 },
 "nbformat": 4,
 "nbformat_minor": 2
}
