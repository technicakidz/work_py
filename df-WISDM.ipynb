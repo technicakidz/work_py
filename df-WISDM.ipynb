{
 "cells": [
  {
   "cell_type": "code",
   "execution_count": null,
   "metadata": {
    "collapsed": true
   },
   "outputs": [],
   "source": [
    "import pandas as pd\n",
    "import numpy as np\n",
    "import csv\n",
    "\n",
    "f = open(\"/home/deepstation/PRMLlab/technicakidz/Data/WISDM\",\"r\")#元ファイル\n",
    "out_f = open(\"/home/deepstation/PRMLlab/technicakidz/Data/\",\"w\")#書き出しファイル"
   ]
  },
  {
   "cell_type": "code",
   "execution_count": null,
   "metadata": {},
   "outputs": [],
   "source": [
    "# 書き出し用ファイルのヘッダーを記述\n",
    "out_f.write(\"subject,activity,timestamp,x,y,z\\n\")\n",
    "\n",
    "# 元ファイルのレコード部分をreadlinesメソッドで全行を読み取る\n",
    "lines = f.readlines()\n",
    "\n",
    "\n",
    "# for文で1行ずつ取得\n",
    "for line in lines:\n",
    "    # 改行コードをブランクに置換\n",
    "    line = line.replace(\"\\n\",\"\")\n",
    "    # カンマ区切りでリストに変換する\n",
    "    line = line.split(\",\")\n",
    "    # 変換後のカンマ区切りの雛形を作り、変換処理した値を入れ込む\n",
    "    row = \"{2},{down},{},{},{},{}\\n\".format(\n",
    "        line[0],\n",
    "        line[1],\n",
    "        line[2],\n",
    "        line[3],\n",
    "        line[4],\n",
    "        line[5].replace(\";\",\"\")\n",
    "        )\n",
    "    # 書き出し用のファイルに出力\n",
    "    out_f.write(row)\n",
    "\n",
    "# ２つのファイルを閉じる\n",
    "f.close()\n",
    "out_f.close()"
   ]
  },
  {
   "cell_type": "code",
   "execution_count": null,
   "metadata": {
    "collapsed": true
   },
   "outputs": [],
   "source": [
    "f2 = pd.read_csv()\n",
    "f_act = f2[f2['activity'] == 'Sitting']\n",
    "f_act[:3] #raw data status"
   ]
  },
  {
   "cell_type": "code",
   "execution_count": null,
   "metadata": {},
   "outputs": [],
   "source": [
    "f_act.shape"
   ]
  },
  {
   "cell_type": "code",
   "execution_count": null,
   "metadata": {},
   "outputs": [],
   "source": [
    "print(len(set(f_act.subject)),'subjects') #num labels"
   ]
  },
  {
   "cell_type": "code",
   "execution_count": null,
   "metadata": {},
   "outputs": [],
   "source": [
    "#write each of activity data file\n",
    "f_act.to_csv(\"/home/deepstation/PRMLlab/technicakidz/Data/actitracker_sit.txt\")"
   ]
  },
  {
   "cell_type": "code",
   "execution_count": null,
   "metadata": {},
   "outputs": [],
   "source": [
    "f = pd.read_table('/home/deepstation/PRMLlab/technicakidz/Data/actitracker_raw.txt')\n",
    "f.shape"
   ]
  },
  {
   "cell_type": "code",
   "execution_count": null,
   "metadata": {
    "scrolled": true
   },
   "outputs": [],
   "source": [
    "f_w = pd.read_table('/home/deepstation/PRMLlab/technicakidz/Data/actitracker_walk.txt')\n",
    "f_w.shape"
   ]
  },
  {
   "cell_type": "code",
   "execution_count": null,
   "metadata": {
    "collapsed": true
   },
   "outputs": [],
   "source": []
  }
 ],
 "metadata": {
  "kernelspec": {
   "display_name": "Python 3",
   "language": "python",
   "name": "python3"
  },
  "language_info": {
   "codemirror_mode": {
    "name": "ipython",
    "version": 3
   },
   "file_extension": ".py",
   "mimetype": "text/x-python",
   "name": "python",
   "nbconvert_exporter": "python",
   "pygments_lexer": "ipython3",
   "version": "3.6.3"
  }
 },
 "nbformat": 4,
 "nbformat_minor": 2
}
